{
  "nbformat": 4,
  "nbformat_minor": 0,
  "metadata": {
    "kernelspec": {
      "name": "python3",
      "display_name": "Python 3"
    },
    "language_info": {
      "codemirror_mode": {
        "name": "ipython",
        "version": 3
      },
      "file_extension": ".py",
      "mimetype": "text/x-python",
      "name": "python",
      "nbconvert_exporter": "python",
      "pygments_lexer": "ipython3",
      "version": "3.6.8"
    },
    "colab": {
      "name": "Segmenting_and_Clustering_Neighborhoods_in_Toronto_Part_1.ipynb",
      "provenance": [],
      "toc_visible": true,
      "include_colab_link": true
    },
    "accelerator": "GPU"
  },
  "cells": [
    {
      "cell_type": "markdown",
      "metadata": {
        "id": "view-in-github",
        "colab_type": "text"
      },
      "source": [
        "<a href=\"https://colab.research.google.com/github/scorpiocodes/Coursera_Capstone/blob/master/Segmenting_and_Clustering_Neighborhoods_in_Toronto_Part_1.ipynb\" target=\"_parent\"><img src=\"https://colab.research.google.com/assets/colab-badge.svg\" alt=\"Open In Colab\"/></a>"
      ]
    },
    {
      "cell_type": "markdown",
      "metadata": {
        "id": "P3TO11xnV5JN",
        "colab_type": "text"
      },
      "source": [
        "tutorial link for scrapping a table from a website: https://towardsdatascience.com/web-scraping-html-tables-with-python-c9baba21059"
      ]
    },
    {
      "cell_type": "code",
      "metadata": {
        "id": "b3GmVn6PV5JO",
        "colab_type": "code",
        "colab": {}
      },
      "source": [
        "# Import necessary libraries\n",
        "\n",
        "import requests\n",
        "import lxml.html as lh\n",
        "import pandas as pd"
      ],
      "execution_count": 0,
      "outputs": []
    },
    {
      "cell_type": "code",
      "metadata": {
        "id": "e3oXkdP2V5JT",
        "colab_type": "code",
        "colab": {}
      },
      "source": [
        "url='https://en.wikipedia.org/wiki/List_of_postal_codes_of_Canada:_M'\n",
        "\n",
        "#Create a handle, page, to handle the contents of the website\n",
        "page = requests.get(url)\n",
        "\n",
        "#Store the contents of the website under doc\n",
        "doc = lh.fromstring(page.content)\n",
        "\n",
        "#Parse data that are stored between <tr>..</tr> of HTML\n",
        "tr_elements = doc.xpath('//tr')"
      ],
      "execution_count": 0,
      "outputs": []
    },
    {
      "cell_type": "code",
      "metadata": {
        "id": "_UkWjSWoV5JW",
        "colab_type": "code",
        "outputId": "22e2ff05-9579-488a-f19e-e4b543a1b913",
        "colab": {
          "base_uri": "https://localhost:8080/",
          "height": 34
        }
      },
      "source": [
        "#Check the length of the first 12 rows\n",
        "[len(T) for T in tr_elements[:12]]"
      ],
      "execution_count": 3,
      "outputs": [
        {
          "output_type": "execute_result",
          "data": {
            "text/plain": [
              "[3, 3, 3, 3, 3, 3, 3, 3, 3, 3, 3, 3]"
            ]
          },
          "metadata": {
            "tags": []
          },
          "execution_count": 3
        }
      ]
    },
    {
      "cell_type": "markdown",
      "metadata": {
        "id": "FutNmjXWV5Jb",
        "colab_type": "text"
      },
      "source": [
        "This means that there are 3 columns per row"
      ]
    },
    {
      "cell_type": "code",
      "metadata": {
        "id": "p7omZKYiV5Jc",
        "colab_type": "code",
        "outputId": "bf4d6968-6d77-4bee-a6c4-b6282ff1248e",
        "colab": {
          "base_uri": "https://localhost:8080/",
          "height": 87
        }
      },
      "source": [
        "# Parse the first row as our header\n",
        "tr_elements = doc.xpath('//tr')\n",
        "\n",
        "#Create empty list\n",
        "col=[]\n",
        "i=0\n",
        "\n",
        "#For each row, store each first element (header) and an empty list\n",
        "for t in tr_elements[0]:\n",
        "    i+=1\n",
        "    name=t.text_content()\n",
        "    print ('%d:\"%s\"'%(i,name))\n",
        "    col.append((name,[]))"
      ],
      "execution_count": 4,
      "outputs": [
        {
          "output_type": "stream",
          "text": [
            "1:\"Postcode\"\n",
            "2:\"Borough\"\n",
            "3:\"Neighborhood\n",
            "\"\n"
          ],
          "name": "stdout"
        }
      ]
    },
    {
      "cell_type": "markdown",
      "metadata": {
        "id": "btOv9OXUV5Jf",
        "colab_type": "text"
      },
      "source": [
        "#### Pandas DataFrame"
      ]
    },
    {
      "cell_type": "code",
      "metadata": {
        "id": "OfeXizMIV5Jg",
        "colab_type": "code",
        "colab": {}
      },
      "source": [
        "#Since out first row is the header, data is stored on the second row onwards\n",
        "for j in range(1,len(tr_elements)):\n",
        "    #T is our j'th row\n",
        "    T=tr_elements[j]\n",
        "    \n",
        "    #If row is not of size 3, the //tr data is not from our table \n",
        "    if len(T)!=3:\n",
        "        break\n",
        "    \n",
        "    #i is the index of our column\n",
        "    i=0\n",
        "    \n",
        "    #Iterate through each element of the row\n",
        "    for t in T.iterchildren():\n",
        "        data=t.text_content() \n",
        "        #Check if row is empty\n",
        "        if i>0:\n",
        "        #Convert any numerical value to integers\n",
        "            try:\n",
        "                data=int(data)\n",
        "            except:\n",
        "                pass\n",
        "        #Append the data to the empty list of the i'th column\n",
        "        col[i][1].append(data)\n",
        "        #Increment i for the next column\n",
        "        i+=1"
      ],
      "execution_count": 0,
      "outputs": []
    },
    {
      "cell_type": "code",
      "metadata": {
        "id": "9IESSP8wV5Jj",
        "colab_type": "code",
        "outputId": "f582360e-9378-4a35-a627-53470d921056",
        "colab": {
          "base_uri": "https://localhost:8080/",
          "height": 34
        }
      },
      "source": [
        "# Check the length of each column. Ideally, they should all be the same\n",
        "[len(C) for (title,C) in col]"
      ],
      "execution_count": 6,
      "outputs": [
        {
          "output_type": "execute_result",
          "data": {
            "text/plain": [
              "[287, 287, 287]"
            ]
          },
          "metadata": {
            "tags": []
          },
          "execution_count": 6
        }
      ]
    },
    {
      "cell_type": "markdown",
      "metadata": {
        "id": "T5MddykLV5Jl",
        "colab_type": "text"
      },
      "source": [
        "This shows that each of the 3 columns has exactly 287 rows"
      ]
    },
    {
      "cell_type": "markdown",
      "metadata": {
        "id": "trPz-MqFV5Jm",
        "colab_type": "text"
      },
      "source": [
        "#### Creating the pandas data frame "
      ]
    },
    {
      "cell_type": "code",
      "metadata": {
        "id": "EWBblH6WV5Jn",
        "colab_type": "code",
        "colab": {}
      },
      "source": [
        "Dict={title:column for (title,column) in col}\n",
        "df=pd.DataFrame(Dict)"
      ],
      "execution_count": 0,
      "outputs": []
    },
    {
      "cell_type": "code",
      "metadata": {
        "id": "PsVsg4kmV5Jr",
        "colab_type": "code",
        "outputId": "11257e9b-74be-4a4a-8677-2ce6612e84f6",
        "colab": {
          "base_uri": "https://localhost:8080/",
          "height": 197
        }
      },
      "source": [
        "# Access the top 5 rows of the data frame \n",
        "df.head()"
      ],
      "execution_count": 8,
      "outputs": [
        {
          "output_type": "execute_result",
          "data": {
            "text/html": [
              "<div>\n",
              "<style scoped>\n",
              "    .dataframe tbody tr th:only-of-type {\n",
              "        vertical-align: middle;\n",
              "    }\n",
              "\n",
              "    .dataframe tbody tr th {\n",
              "        vertical-align: top;\n",
              "    }\n",
              "\n",
              "    .dataframe thead th {\n",
              "        text-align: right;\n",
              "    }\n",
              "</style>\n",
              "<table border=\"1\" class=\"dataframe\">\n",
              "  <thead>\n",
              "    <tr style=\"text-align: right;\">\n",
              "      <th></th>\n",
              "      <th>Postcode</th>\n",
              "      <th>Borough</th>\n",
              "      <th>Neighborhood\\n</th>\n",
              "    </tr>\n",
              "  </thead>\n",
              "  <tbody>\n",
              "    <tr>\n",
              "      <th>0</th>\n",
              "      <td>M1A</td>\n",
              "      <td>Not assigned</td>\n",
              "      <td>Not assigned\\n</td>\n",
              "    </tr>\n",
              "    <tr>\n",
              "      <th>1</th>\n",
              "      <td>M2A</td>\n",
              "      <td>Not assigned</td>\n",
              "      <td>Not assigned\\n</td>\n",
              "    </tr>\n",
              "    <tr>\n",
              "      <th>2</th>\n",
              "      <td>M3A</td>\n",
              "      <td>North York</td>\n",
              "      <td>Parkwoods\\n</td>\n",
              "    </tr>\n",
              "    <tr>\n",
              "      <th>3</th>\n",
              "      <td>M4A</td>\n",
              "      <td>North York</td>\n",
              "      <td>Victoria Village\\n</td>\n",
              "    </tr>\n",
              "    <tr>\n",
              "      <th>4</th>\n",
              "      <td>M5A</td>\n",
              "      <td>Downtown Toronto</td>\n",
              "      <td>Harbourfront\\n</td>\n",
              "    </tr>\n",
              "  </tbody>\n",
              "</table>\n",
              "</div>"
            ],
            "text/plain": [
              "  Postcode           Borough      Neighborhood\\n\n",
              "0      M1A      Not assigned      Not assigned\\n\n",
              "1      M2A      Not assigned      Not assigned\\n\n",
              "2      M3A        North York         Parkwoods\\n\n",
              "3      M4A        North York  Victoria Village\\n\n",
              "4      M5A  Downtown Toronto      Harbourfront\\n"
            ]
          },
          "metadata": {
            "tags": []
          },
          "execution_count": 8
        }
      ]
    },
    {
      "cell_type": "markdown",
      "metadata": {
        "id": "ymmNSC7GV5Ju",
        "colab_type": "text"
      },
      "source": [
        "#### Rearranging and renaming the columns"
      ]
    },
    {
      "cell_type": "code",
      "metadata": {
        "id": "x0FzYpNOV5Jv",
        "colab_type": "code",
        "outputId": "886bf190-b6bf-4d5f-a484-65b116aab376",
        "colab": {
          "base_uri": "https://localhost:8080/",
          "height": 197
        }
      },
      "source": [
        "df.columns = ['Borough', 'Neighbourhood','Postcode']\n",
        "\n",
        "cols = df.columns.tolist()\n",
        "cols\n",
        "\n",
        "cols = cols[-1:] + cols[:-1]\n",
        "\n",
        "df = df[cols]\n",
        "\n",
        "df.head()"
      ],
      "execution_count": 9,
      "outputs": [
        {
          "output_type": "execute_result",
          "data": {
            "text/html": [
              "<div>\n",
              "<style scoped>\n",
              "    .dataframe tbody tr th:only-of-type {\n",
              "        vertical-align: middle;\n",
              "    }\n",
              "\n",
              "    .dataframe tbody tr th {\n",
              "        vertical-align: top;\n",
              "    }\n",
              "\n",
              "    .dataframe thead th {\n",
              "        text-align: right;\n",
              "    }\n",
              "</style>\n",
              "<table border=\"1\" class=\"dataframe\">\n",
              "  <thead>\n",
              "    <tr style=\"text-align: right;\">\n",
              "      <th></th>\n",
              "      <th>Postcode</th>\n",
              "      <th>Borough</th>\n",
              "      <th>Neighbourhood</th>\n",
              "    </tr>\n",
              "  </thead>\n",
              "  <tbody>\n",
              "    <tr>\n",
              "      <th>0</th>\n",
              "      <td>Not assigned\\n</td>\n",
              "      <td>M1A</td>\n",
              "      <td>Not assigned</td>\n",
              "    </tr>\n",
              "    <tr>\n",
              "      <th>1</th>\n",
              "      <td>Not assigned\\n</td>\n",
              "      <td>M2A</td>\n",
              "      <td>Not assigned</td>\n",
              "    </tr>\n",
              "    <tr>\n",
              "      <th>2</th>\n",
              "      <td>Parkwoods\\n</td>\n",
              "      <td>M3A</td>\n",
              "      <td>North York</td>\n",
              "    </tr>\n",
              "    <tr>\n",
              "      <th>3</th>\n",
              "      <td>Victoria Village\\n</td>\n",
              "      <td>M4A</td>\n",
              "      <td>North York</td>\n",
              "    </tr>\n",
              "    <tr>\n",
              "      <th>4</th>\n",
              "      <td>Harbourfront\\n</td>\n",
              "      <td>M5A</td>\n",
              "      <td>Downtown Toronto</td>\n",
              "    </tr>\n",
              "  </tbody>\n",
              "</table>\n",
              "</div>"
            ],
            "text/plain": [
              "             Postcode Borough     Neighbourhood\n",
              "0      Not assigned\\n     M1A      Not assigned\n",
              "1      Not assigned\\n     M2A      Not assigned\n",
              "2         Parkwoods\\n     M3A        North York\n",
              "3  Victoria Village\\n     M4A        North York\n",
              "4      Harbourfront\\n     M5A  Downtown Toronto"
            ]
          },
          "metadata": {
            "tags": []
          },
          "execution_count": 9
        }
      ]
    },
    {
      "cell_type": "markdown",
      "metadata": {
        "id": "zvrydWZhV5Jy",
        "colab_type": "text"
      },
      "source": [
        "#### Cleaning the messy string in the Borough column"
      ]
    },
    {
      "cell_type": "code",
      "metadata": {
        "id": "lJYYWM2vV5Jz",
        "colab_type": "code",
        "outputId": "b3c4e821-25d6-4c40-dd0c-0a6d91f0b975",
        "colab": {
          "base_uri": "https://localhost:8080/",
          "height": 197
        }
      },
      "source": [
        "df = df.replace('\\n',' ', regex=True)\n",
        "df.head()"
      ],
      "execution_count": 10,
      "outputs": [
        {
          "output_type": "execute_result",
          "data": {
            "text/html": [
              "<div>\n",
              "<style scoped>\n",
              "    .dataframe tbody tr th:only-of-type {\n",
              "        vertical-align: middle;\n",
              "    }\n",
              "\n",
              "    .dataframe tbody tr th {\n",
              "        vertical-align: top;\n",
              "    }\n",
              "\n",
              "    .dataframe thead th {\n",
              "        text-align: right;\n",
              "    }\n",
              "</style>\n",
              "<table border=\"1\" class=\"dataframe\">\n",
              "  <thead>\n",
              "    <tr style=\"text-align: right;\">\n",
              "      <th></th>\n",
              "      <th>Postcode</th>\n",
              "      <th>Borough</th>\n",
              "      <th>Neighbourhood</th>\n",
              "    </tr>\n",
              "  </thead>\n",
              "  <tbody>\n",
              "    <tr>\n",
              "      <th>0</th>\n",
              "      <td>Not assigned</td>\n",
              "      <td>M1A</td>\n",
              "      <td>Not assigned</td>\n",
              "    </tr>\n",
              "    <tr>\n",
              "      <th>1</th>\n",
              "      <td>Not assigned</td>\n",
              "      <td>M2A</td>\n",
              "      <td>Not assigned</td>\n",
              "    </tr>\n",
              "    <tr>\n",
              "      <th>2</th>\n",
              "      <td>Parkwoods</td>\n",
              "      <td>M3A</td>\n",
              "      <td>North York</td>\n",
              "    </tr>\n",
              "    <tr>\n",
              "      <th>3</th>\n",
              "      <td>Victoria Village</td>\n",
              "      <td>M4A</td>\n",
              "      <td>North York</td>\n",
              "    </tr>\n",
              "    <tr>\n",
              "      <th>4</th>\n",
              "      <td>Harbourfront</td>\n",
              "      <td>M5A</td>\n",
              "      <td>Downtown Toronto</td>\n",
              "    </tr>\n",
              "  </tbody>\n",
              "</table>\n",
              "</div>"
            ],
            "text/plain": [
              "            Postcode Borough     Neighbourhood\n",
              "0      Not assigned      M1A      Not assigned\n",
              "1      Not assigned      M2A      Not assigned\n",
              "2         Parkwoods      M3A        North York\n",
              "3  Victoria Village      M4A        North York\n",
              "4      Harbourfront      M5A  Downtown Toronto"
            ]
          },
          "metadata": {
            "tags": []
          },
          "execution_count": 10
        }
      ]
    },
    {
      "cell_type": "markdown",
      "metadata": {
        "id": "_s2yFF70V5J2",
        "colab_type": "text"
      },
      "source": [
        "#### Dropping all cells with a borough that is Not assigned"
      ]
    },
    {
      "cell_type": "code",
      "metadata": {
        "id": "3mOHuDB9V5J3",
        "colab_type": "code",
        "outputId": "196b6bbb-3409-4f97-a8ab-faf621b03381",
        "colab": {
          "base_uri": "https://localhost:8080/",
          "height": 347
        }
      },
      "source": [
        "df.drop(df.index[df['Borough'] == 'Not assigned'], inplace = True)\n",
        "\n",
        "# Reset the index and dropping the previous index\n",
        "df = df.reset_index(drop=True)\n",
        "\n",
        "df.head(10)"
      ],
      "execution_count": 11,
      "outputs": [
        {
          "output_type": "execute_result",
          "data": {
            "text/html": [
              "<div>\n",
              "<style scoped>\n",
              "    .dataframe tbody tr th:only-of-type {\n",
              "        vertical-align: middle;\n",
              "    }\n",
              "\n",
              "    .dataframe tbody tr th {\n",
              "        vertical-align: top;\n",
              "    }\n",
              "\n",
              "    .dataframe thead th {\n",
              "        text-align: right;\n",
              "    }\n",
              "</style>\n",
              "<table border=\"1\" class=\"dataframe\">\n",
              "  <thead>\n",
              "    <tr style=\"text-align: right;\">\n",
              "      <th></th>\n",
              "      <th>Postcode</th>\n",
              "      <th>Borough</th>\n",
              "      <th>Neighbourhood</th>\n",
              "    </tr>\n",
              "  </thead>\n",
              "  <tbody>\n",
              "    <tr>\n",
              "      <th>0</th>\n",
              "      <td>Not assigned</td>\n",
              "      <td>M1A</td>\n",
              "      <td>Not assigned</td>\n",
              "    </tr>\n",
              "    <tr>\n",
              "      <th>1</th>\n",
              "      <td>Not assigned</td>\n",
              "      <td>M2A</td>\n",
              "      <td>Not assigned</td>\n",
              "    </tr>\n",
              "    <tr>\n",
              "      <th>2</th>\n",
              "      <td>Parkwoods</td>\n",
              "      <td>M3A</td>\n",
              "      <td>North York</td>\n",
              "    </tr>\n",
              "    <tr>\n",
              "      <th>3</th>\n",
              "      <td>Victoria Village</td>\n",
              "      <td>M4A</td>\n",
              "      <td>North York</td>\n",
              "    </tr>\n",
              "    <tr>\n",
              "      <th>4</th>\n",
              "      <td>Harbourfront</td>\n",
              "      <td>M5A</td>\n",
              "      <td>Downtown Toronto</td>\n",
              "    </tr>\n",
              "    <tr>\n",
              "      <th>5</th>\n",
              "      <td>Lawrence Heights</td>\n",
              "      <td>M6A</td>\n",
              "      <td>North York</td>\n",
              "    </tr>\n",
              "    <tr>\n",
              "      <th>6</th>\n",
              "      <td>Lawrence Manor</td>\n",
              "      <td>M6A</td>\n",
              "      <td>North York</td>\n",
              "    </tr>\n",
              "    <tr>\n",
              "      <th>7</th>\n",
              "      <td>Queen's Park</td>\n",
              "      <td>M7A</td>\n",
              "      <td>Downtown Toronto</td>\n",
              "    </tr>\n",
              "    <tr>\n",
              "      <th>8</th>\n",
              "      <td>Not assigned</td>\n",
              "      <td>M8A</td>\n",
              "      <td>Not assigned</td>\n",
              "    </tr>\n",
              "    <tr>\n",
              "      <th>9</th>\n",
              "      <td>Not assigned</td>\n",
              "      <td>M9A</td>\n",
              "      <td>Queen's Park</td>\n",
              "    </tr>\n",
              "  </tbody>\n",
              "</table>\n",
              "</div>"
            ],
            "text/plain": [
              "            Postcode Borough     Neighbourhood\n",
              "0      Not assigned      M1A      Not assigned\n",
              "1      Not assigned      M2A      Not assigned\n",
              "2         Parkwoods      M3A        North York\n",
              "3  Victoria Village      M4A        North York\n",
              "4      Harbourfront      M5A  Downtown Toronto\n",
              "5  Lawrence Heights      M6A        North York\n",
              "6    Lawrence Manor      M6A        North York\n",
              "7      Queen's Park      M7A  Downtown Toronto\n",
              "8      Not assigned      M8A      Not assigned\n",
              "9      Not assigned      M9A      Queen's Park"
            ]
          },
          "metadata": {
            "tags": []
          },
          "execution_count": 11
        }
      ]
    },
    {
      "cell_type": "markdown",
      "metadata": {
        "id": "Bz8No_lfV5J6",
        "colab_type": "text"
      },
      "source": [
        "#### Combining Neighbourhoods based on similar Postcode and Borough  "
      ]
    },
    {
      "cell_type": "code",
      "metadata": {
        "id": "Und3T2x_V5J7",
        "colab_type": "code",
        "outputId": "66a2754b-1a96-4573-8140-3939fe8e3ea4",
        "colab": {
          "base_uri": "https://localhost:8080/",
          "height": 347
        }
      },
      "source": [
        "df = df.groupby(['Postcode', 'Borough'])['Neighbourhood'].apply(','.join).reset_index()\n",
        "df.columns = ['Postcode','Borough','Neighbourhood']\n",
        "df.head(10)"
      ],
      "execution_count": 12,
      "outputs": [
        {
          "output_type": "execute_result",
          "data": {
            "text/html": [
              "<div>\n",
              "<style scoped>\n",
              "    .dataframe tbody tr th:only-of-type {\n",
              "        vertical-align: middle;\n",
              "    }\n",
              "\n",
              "    .dataframe tbody tr th {\n",
              "        vertical-align: top;\n",
              "    }\n",
              "\n",
              "    .dataframe thead th {\n",
              "        text-align: right;\n",
              "    }\n",
              "</style>\n",
              "<table border=\"1\" class=\"dataframe\">\n",
              "  <thead>\n",
              "    <tr style=\"text-align: right;\">\n",
              "      <th></th>\n",
              "      <th>Postcode</th>\n",
              "      <th>Borough</th>\n",
              "      <th>Neighbourhood</th>\n",
              "    </tr>\n",
              "  </thead>\n",
              "  <tbody>\n",
              "    <tr>\n",
              "      <th>0</th>\n",
              "      <td>Adelaide</td>\n",
              "      <td>M5H</td>\n",
              "      <td>Downtown Toronto</td>\n",
              "    </tr>\n",
              "    <tr>\n",
              "      <th>1</th>\n",
              "      <td>Agincourt</td>\n",
              "      <td>M1S</td>\n",
              "      <td>Scarborough</td>\n",
              "    </tr>\n",
              "    <tr>\n",
              "      <th>2</th>\n",
              "      <td>Agincourt North</td>\n",
              "      <td>M1V</td>\n",
              "      <td>Scarborough</td>\n",
              "    </tr>\n",
              "    <tr>\n",
              "      <th>3</th>\n",
              "      <td>Albion Gardens</td>\n",
              "      <td>M9V</td>\n",
              "      <td>Etobicoke</td>\n",
              "    </tr>\n",
              "    <tr>\n",
              "      <th>4</th>\n",
              "      <td>Alderwood</td>\n",
              "      <td>M8W</td>\n",
              "      <td>Etobicoke</td>\n",
              "    </tr>\n",
              "    <tr>\n",
              "      <th>5</th>\n",
              "      <td>Bathurst Manor</td>\n",
              "      <td>M3H</td>\n",
              "      <td>North York</td>\n",
              "    </tr>\n",
              "    <tr>\n",
              "      <th>6</th>\n",
              "      <td>Bathurst Quay</td>\n",
              "      <td>M5V</td>\n",
              "      <td>Downtown Toronto</td>\n",
              "    </tr>\n",
              "    <tr>\n",
              "      <th>7</th>\n",
              "      <td>Bayview Village</td>\n",
              "      <td>M2K</td>\n",
              "      <td>North York</td>\n",
              "    </tr>\n",
              "    <tr>\n",
              "      <th>8</th>\n",
              "      <td>Beaumond Heights</td>\n",
              "      <td>M9V</td>\n",
              "      <td>Etobicoke</td>\n",
              "    </tr>\n",
              "    <tr>\n",
              "      <th>9</th>\n",
              "      <td>Bedford Park</td>\n",
              "      <td>M5M</td>\n",
              "      <td>North York</td>\n",
              "    </tr>\n",
              "  </tbody>\n",
              "</table>\n",
              "</div>"
            ],
            "text/plain": [
              "            Postcode Borough     Neighbourhood\n",
              "0          Adelaide      M5H  Downtown Toronto\n",
              "1         Agincourt      M1S       Scarborough\n",
              "2   Agincourt North      M1V       Scarborough\n",
              "3    Albion Gardens      M9V         Etobicoke\n",
              "4         Alderwood      M8W         Etobicoke\n",
              "5    Bathurst Manor      M3H        North York\n",
              "6     Bathurst Quay      M5V  Downtown Toronto\n",
              "7   Bayview Village      M2K        North York\n",
              "8  Beaumond Heights      M9V         Etobicoke\n",
              "9      Bedford Park      M5M        North York"
            ]
          },
          "metadata": {
            "tags": []
          },
          "execution_count": 12
        }
      ]
    },
    {
      "cell_type": "markdown",
      "metadata": {
        "id": "EPelSS1OV5J_",
        "colab_type": "text"
      },
      "source": [
        "#### Removing any space"
      ]
    },
    {
      "cell_type": "code",
      "metadata": {
        "id": "w0-5xCs1V5KA",
        "colab_type": "code",
        "colab": {}
      },
      "source": [
        "df['Neighbourhood'] = df['Neighbourhood'].str.strip()"
      ],
      "execution_count": 0,
      "outputs": []
    },
    {
      "cell_type": "markdown",
      "metadata": {
        "id": "5sNBeeX4V5KD",
        "colab_type": "text"
      },
      "source": [
        "#### Assigning Borough values to the Neignbourhood where vlaue is \"Not assigned\""
      ]
    },
    {
      "cell_type": "code",
      "metadata": {
        "id": "__Bn3rk9V5KD",
        "colab_type": "code",
        "colab": {}
      },
      "source": [
        "df.loc[df['Neighbourhood'] == 'Not assigned', 'Neighbourhood'] = df['Borough']"
      ],
      "execution_count": 0,
      "outputs": []
    },
    {
      "cell_type": "code",
      "metadata": {
        "id": "ywqI3faMV5KJ",
        "colab_type": "code",
        "outputId": "ba2beaf3-ad01-42fc-ff87-b51a36c16fa8",
        "colab": {
          "base_uri": "https://localhost:8080/",
          "height": 34
        }
      },
      "source": [
        "# shape of the data frame\n",
        "df.shape"
      ],
      "execution_count": 15,
      "outputs": [
        {
          "output_type": "execute_result",
          "data": {
            "text/plain": [
              "(287, 3)"
            ]
          },
          "metadata": {
            "tags": []
          },
          "execution_count": 15
        }
      ]
    },
    {
      "cell_type": "markdown",
      "metadata": {
        "id": "uzrGQWm4ZKQZ",
        "colab_type": "text"
      },
      "source": [
        "***Saving file to a CSV***"
      ]
    },
    {
      "cell_type": "code",
      "metadata": {
        "id": "rin1VB2CZOJ7",
        "colab_type": "code",
        "colab": {}
      },
      "source": [
        "df.to_csv(r'df1.csv')"
      ],
      "execution_count": 0,
      "outputs": []
    }
  ]
}