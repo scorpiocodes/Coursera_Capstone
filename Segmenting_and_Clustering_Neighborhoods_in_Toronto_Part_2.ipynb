{
  "nbformat": 4,
  "nbformat_minor": 0,
  "metadata": {
    "kernelspec": {
      "display_name": "Python 3",
      "language": "python",
      "name": "python3"
    },
    "language_info": {
      "codemirror_mode": {
        "name": "ipython",
        "version": 3
      },
      "file_extension": ".py",
      "mimetype": "text/x-python",
      "name": "python",
      "nbconvert_exporter": "python",
      "pygments_lexer": "ipython3",
      "version": "3.6.8"
    },
    "colab": {
      "name": "Assignment 2 - Segmenting and Clustering Neighborhoods in Toronto - Part 2.ipynb",
      "provenance": []
    }
  },
  "cells": [
    {
      "cell_type": "markdown",
      "metadata": {
        "id": "phCL5LJ0allw",
        "colab_type": "text"
      },
      "source": [
        "### Extracting the Latitude and Longitude of Canada Ontario"
      ]
    },
    {
      "cell_type": "code",
      "metadata": {
        "id": "kbHcstxUalmF",
        "colab_type": "code",
        "colab": {
          "base_uri": "https://localhost:8080/",
          "height": 197
        },
        "outputId": "171c8842-76de-467c-d3df-dee5b4f3b055"
      },
      "source": [
        "import pandas as pd # library for data analsysis\n",
        "import numpy as np # library to handle data in a vectorized manner\n",
        "\n",
        "link = \"http://cocl.us/Geospatial_data\"\n",
        "df1 = pd.read_csv(link)\n",
        "\n",
        "df1.head()"
      ],
      "execution_count": 9,
      "outputs": [
        {
          "output_type": "execute_result",
          "data": {
            "text/html": [
              "<div>\n",
              "<style scoped>\n",
              "    .dataframe tbody tr th:only-of-type {\n",
              "        vertical-align: middle;\n",
              "    }\n",
              "\n",
              "    .dataframe tbody tr th {\n",
              "        vertical-align: top;\n",
              "    }\n",
              "\n",
              "    .dataframe thead th {\n",
              "        text-align: right;\n",
              "    }\n",
              "</style>\n",
              "<table border=\"1\" class=\"dataframe\">\n",
              "  <thead>\n",
              "    <tr style=\"text-align: right;\">\n",
              "      <th></th>\n",
              "      <th>Postal Code</th>\n",
              "      <th>Latitude</th>\n",
              "      <th>Longitude</th>\n",
              "    </tr>\n",
              "  </thead>\n",
              "  <tbody>\n",
              "    <tr>\n",
              "      <th>0</th>\n",
              "      <td>M1B</td>\n",
              "      <td>43.806686</td>\n",
              "      <td>-79.194353</td>\n",
              "    </tr>\n",
              "    <tr>\n",
              "      <th>1</th>\n",
              "      <td>M1C</td>\n",
              "      <td>43.784535</td>\n",
              "      <td>-79.160497</td>\n",
              "    </tr>\n",
              "    <tr>\n",
              "      <th>2</th>\n",
              "      <td>M1E</td>\n",
              "      <td>43.763573</td>\n",
              "      <td>-79.188711</td>\n",
              "    </tr>\n",
              "    <tr>\n",
              "      <th>3</th>\n",
              "      <td>M1G</td>\n",
              "      <td>43.770992</td>\n",
              "      <td>-79.216917</td>\n",
              "    </tr>\n",
              "    <tr>\n",
              "      <th>4</th>\n",
              "      <td>M1H</td>\n",
              "      <td>43.773136</td>\n",
              "      <td>-79.239476</td>\n",
              "    </tr>\n",
              "  </tbody>\n",
              "</table>\n",
              "</div>"
            ],
            "text/plain": [
              "  Postal Code   Latitude  Longitude\n",
              "0         M1B  43.806686 -79.194353\n",
              "1         M1C  43.784535 -79.160497\n",
              "2         M1E  43.763573 -79.188711\n",
              "3         M1G  43.770992 -79.216917\n",
              "4         M1H  43.773136 -79.239476"
            ]
          },
          "metadata": {
            "tags": []
          },
          "execution_count": 9
        }
      ]
    },
    {
      "cell_type": "code",
      "metadata": {
        "id": "Y43HZvhOalmK",
        "colab_type": "code",
        "colab": {
          "base_uri": "https://localhost:8080/",
          "height": 34
        },
        "outputId": "02d0d37c-ee2c-4114-b39e-7b02429cefec"
      },
      "source": [
        "df1.shape"
      ],
      "execution_count": 10,
      "outputs": [
        {
          "output_type": "execute_result",
          "data": {
            "text/plain": [
              "(103, 3)"
            ]
          },
          "metadata": {
            "tags": []
          },
          "execution_count": 10
        }
      ]
    },
    {
      "cell_type": "markdown",
      "metadata": {
        "id": "jhjPOs0ralmO",
        "colab_type": "text"
      },
      "source": [
        "the data frames have 103 rows and 3 columns"
      ]
    },
    {
      "cell_type": "markdown",
      "metadata": {
        "id": "xT4rrGR9almQ",
        "colab_type": "text"
      },
      "source": [
        "#### Changing the column name Postal code to Postcode to merge the two data frames together"
      ]
    },
    {
      "cell_type": "code",
      "metadata": {
        "id": "_-i3lGAwalmS",
        "colab_type": "code",
        "colab": {
          "base_uri": "https://localhost:8080/",
          "height": 34
        },
        "outputId": "cfaf0932-dd8c-4cee-eb00-f66b65cc660f"
      },
      "source": [
        "df1.columns = ['Postcode','Latitude','Longitude']\n",
        "\n",
        "cols = df1.columns.tolist()\n",
        "cols"
      ],
      "execution_count": 11,
      "outputs": [
        {
          "output_type": "execute_result",
          "data": {
            "text/plain": [
              "['Postcode', 'Latitude', 'Longitude']"
            ]
          },
          "metadata": {
            "tags": []
          },
          "execution_count": 11
        }
      ]
    },
    {
      "cell_type": "markdown",
      "metadata": {
        "id": "e1BB7z3RalmW",
        "colab_type": "text"
      },
      "source": [
        "#### Read in the CSV file saved in the previous assignment"
      ]
    },
    {
      "cell_type": "code",
      "metadata": {
        "id": "eLFm6plgalmY",
        "colab_type": "code",
        "colab": {
          "base_uri": "https://localhost:8080/",
          "height": 197
        },
        "outputId": "24a06289-ab62-4dbc-f1df-6a4c34d9face"
      },
      "source": [
        "link = \"https://raw.githubusercontent.com/scorpiocodes/Coursera_Capstone/master/df1.csv\"\n",
        "df = pd.read_csv(link,index_col = 0)\n",
        "df.head()"
      ],
      "execution_count": 22,
      "outputs": [
        {
          "output_type": "execute_result",
          "data": {
            "text/html": [
              "<div>\n",
              "<style scoped>\n",
              "    .dataframe tbody tr th:only-of-type {\n",
              "        vertical-align: middle;\n",
              "    }\n",
              "\n",
              "    .dataframe tbody tr th {\n",
              "        vertical-align: top;\n",
              "    }\n",
              "\n",
              "    .dataframe thead th {\n",
              "        text-align: right;\n",
              "    }\n",
              "</style>\n",
              "<table border=\"1\" class=\"dataframe\">\n",
              "  <thead>\n",
              "    <tr style=\"text-align: right;\">\n",
              "      <th></th>\n",
              "      <th>Postcode</th>\n",
              "      <th>Borough</th>\n",
              "      <th>Neighbourhood</th>\n",
              "    </tr>\n",
              "  </thead>\n",
              "  <tbody>\n",
              "    <tr>\n",
              "      <th>0</th>\n",
              "      <td>Adelaide</td>\n",
              "      <td>M5H</td>\n",
              "      <td>Downtown Toronto</td>\n",
              "    </tr>\n",
              "    <tr>\n",
              "      <th>1</th>\n",
              "      <td>Agincourt</td>\n",
              "      <td>M1S</td>\n",
              "      <td>Scarborough</td>\n",
              "    </tr>\n",
              "    <tr>\n",
              "      <th>2</th>\n",
              "      <td>Agincourt North</td>\n",
              "      <td>M1V</td>\n",
              "      <td>Scarborough</td>\n",
              "    </tr>\n",
              "    <tr>\n",
              "      <th>3</th>\n",
              "      <td>Albion Gardens</td>\n",
              "      <td>M9V</td>\n",
              "      <td>Etobicoke</td>\n",
              "    </tr>\n",
              "    <tr>\n",
              "      <th>4</th>\n",
              "      <td>Alderwood</td>\n",
              "      <td>M8W</td>\n",
              "      <td>Etobicoke</td>\n",
              "    </tr>\n",
              "  </tbody>\n",
              "</table>\n",
              "</div>"
            ],
            "text/plain": [
              "           Postcode Borough     Neighbourhood\n",
              "0         Adelaide      M5H  Downtown Toronto\n",
              "1        Agincourt      M1S       Scarborough\n",
              "2  Agincourt North      M1V       Scarborough\n",
              "3   Albion Gardens      M9V         Etobicoke\n",
              "4        Alderwood      M8W         Etobicoke"
            ]
          },
          "metadata": {
            "tags": []
          },
          "execution_count": 22
        }
      ]
    },
    {
      "cell_type": "markdown",
      "metadata": {
        "id": "i-STv13Yalmc",
        "colab_type": "text"
      },
      "source": [
        "#### Merging the two data frames together based on their Postcode"
      ]
    },
    {
      "cell_type": "code",
      "metadata": {
        "id": "pVCo5Npnalmd",
        "colab_type": "code",
        "colab": {}
      },
      "source": [
        "df_new = pd.merge(df, df1, on='Postcode')"
      ],
      "execution_count": 0,
      "outputs": []
    },
    {
      "cell_type": "markdown",
      "metadata": {
        "id": "x0xnGXTnalmj",
        "colab_type": "text"
      },
      "source": [
        "#### Save the file as a csv"
      ]
    },
    {
      "cell_type": "code",
      "metadata": {
        "id": "XAicAH4Zalmk",
        "colab_type": "code",
        "colab": {}
      },
      "source": [
        "df_new.to_csv(r'df_final.csv')"
      ],
      "execution_count": 0,
      "outputs": []
    }
  ]
}